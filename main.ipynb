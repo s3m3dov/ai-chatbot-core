{
 "cells": [
  {
   "cell_type": "markdown",
   "metadata": {
    "collapsed": false
   },
   "source": [
    "# ChatGPT Task\n",
    "Description:\n",
    "Create an application that allows users to speak to GPT-3.5-turbo using the LangChain library and OpenAI API. The UI interface does not matter. The application should save previous conversation history into a memory (Chroma), and when a new conversation starts, it should retrieve previous conversations from memory and use them in the prompt to set the context."
   ]
  },
  {
   "cell_type": "code",
   "execution_count": 6,
   "metadata": {
    "ExecuteTime": {
     "end_time": "2023-05-16T16:03:52.786207960Z",
     "start_time": "2023-05-16T16:03:52.772666061Z"
    },
    "collapsed": false
   },
   "outputs": [
    {
     "name": "stdout",
     "output_type": "stream",
     "text": [
      "env: OPENAI_API_KEY=[\"YOUR_KEY_HERE\"]\n"
     ]
    }
   ],
   "source": [
    "%env OPENAI_API_KEY=[\"YOUR_KEY_HERE\"]"
   ]
  },
  {
   "cell_type": "markdown",
   "metadata": {
    "collapsed": false
   },
   "source": [
    "## ChatBot"
   ]
  },
  {
   "cell_type": "code",
   "execution_count": 2,
   "metadata": {
    "ExecuteTime": {
     "end_time": "2023-05-16T16:04:01.442109481Z",
     "start_time": "2023-05-16T16:04:01.439212181Z"
    },
    "collapsed": false
   },
   "outputs": [],
   "source": [
    "from app.chatbot import ChatBot"
   ]
  },
  {
   "cell_type": "code",
   "execution_count": 4,
   "metadata": {
    "ExecuteTime": {
     "end_time": "2023-05-16T16:05:23.298100880Z",
     "start_time": "2023-05-16T16:05:03.904895871Z"
    },
    "collapsed": false
   },
   "outputs": [
    {
     "name": "stderr",
     "output_type": "stream",
     "text": [
      "Using embedded DuckDB without persistence: data will be transient\n"
     ]
    }
   ],
   "source": [
    "bot = ChatBot()\n",
    "log = print"
   ]
  },
  {
   "cell_type": "code",
   "execution_count": 5,
   "metadata": {
    "ExecuteTime": {
     "end_time": "2023-05-16T16:06:06.005870550Z",
     "start_time": "2023-05-16T16:05:35.579799418Z"
    },
    "collapsed": false
   },
   "outputs": [
    {
     "name": "stderr",
     "output_type": "stream",
     "text": [
      "Chroma collection langchain contains fewer than 4 elements.\n",
      "Chroma collection langchain contains fewer than 3 elements.\n",
      "Chroma collection langchain contains fewer than 2 elements.\n"
     ]
    },
    {
     "name": "stdout",
     "output_type": "stream",
     "text": [
      "\n",
      "\n",
      "\u001b[1m> Entering new LLMChain chain...\u001b[0m\n",
      "Prompt after formatting:\n",
      "\u001b[32;1m\u001b[1;3m\n",
      "        Your name is SmartBot. \n",
      "        \n",
      "        You are an AI chatbot that is designed to\n",
      "        help people with their problems, and your tone is\n",
      "        professional and friendly.\n",
      "        \n",
      "        You should try hard to answer the questions in a way \n",
      "        that is helpful to the person asking them, and these \n",
      "        answers should be detailed.\n",
      "        \n",
      "        Relevant pieces of previous conversation:\n",
      "        input: hey\n",
      "output: hey\n",
      "        \n",
      "        (You do not need to use these pieces of information if not relevant)\n",
      "        \n",
      "        Current conversation:\n",
      "        Human: jbhasgihasd is a new action movie produced by Hikmat Samadov\n",
      "        SmartBot:\n",
      "        \n",
      "        \u001b[0m\n",
      "\n",
      "\u001b[1m> Finished chain.\u001b[0m\n",
      "Thank you for sharing that information with me. Is there anything specific you would like to know about the movie or its production? I'm here to help with any questions or concerns you may have.\n"
     ]
    }
   ],
   "source": [
    "prompt_input = \"jbhasgihasd is a new action movie produced by Hikmat Samadov\"\n",
    "\n",
    "result = bot.engine.predict(input=prompt_input)\n",
    "log(result)\n",
    "\n",
    "bot.save_message(author=\"human\", content=prompt_input)\n",
    "bot.save_message(author=\"ai\", content=result)"
   ]
  },
  {
   "cell_type": "code",
   "execution_count": 9,
   "metadata": {},
   "outputs": [
    {
     "name": "stdout",
     "output_type": "stream",
     "text": [
      "\n",
      "\n",
      "\u001b[1m> Entering new LLMChain chain...\u001b[0m\n",
      "Prompt after formatting:\n",
      "\u001b[32;1m\u001b[1;3m\n",
      "        Your name is SmartBot. \n",
      "        \n",
      "        You are an AI chatbot that is designed to\n",
      "        help people with their problems, and your tone is\n",
      "        professional and friendly.\n",
      "        \n",
      "        You should try hard to answer the questions in a way \n",
      "        that is helpful to the person asking them, and these \n",
      "        answers should be detailed.\n",
      "        \n",
      "        Relevant pieces of previous conversation:\n",
      "        input: What is jbhasgihasd?\n",
      "output: Thank you for your question. jbhasgihasd is a new action movie produced by Hikmat Samadov. It is a fictional story that follows the journey of a group of special forces soldiers on a mission to stop a terrorist organization from carrying out a deadly attack. The movie is action-packed and features a talented cast of actors. Is there anything else you would like to know about the movie or its production?\n",
      "input: What is jbhasgihasd?\n",
      "output: Thank you for your question. jbhasgihasd is a new action movie produced by Hikmat Samadov. It is a fictional story that follows the journey of a group of special forces soldiers on a mission to stop a terrorist organization from carrying out a deadly attack. The movie is action-packed and features a talented cast of actors. Is there anything else you would like to know about the movie or its production? I'm here to help with any questions or concerns you may have.\n",
      "input: What is jbhasgihasd?\n",
      "output: Thank you for your question. jbhasgihasd is a new action movie produced by Hikmat Samadov. It is a fictional story that follows the journey of a group of special forces soldiers on a mission to stop a terrorist organization from carrying out a deadly attack. The movie is action-packed and features a talented cast of actors. Is there anything else you would like to know about the movie or its production? I'm here to help with any questions or concerns you may have.\n",
      "input: jbhasgihasd is a new action movie produced by Hikmat Samadov\n",
      "output: Thank you for sharing that information with me. Is there anything specific you would like to know about the movie or its production? I'm here to help with any questions or concerns you may have.\n",
      "        \n",
      "        (You do not need to use these pieces of information if not relevant)\n",
      "        \n",
      "        Current conversation:\n",
      "        Human: What is jbhasgihasd?\n",
      "        SmartBot:\n",
      "        \n",
      "        \u001b[0m\n",
      "\n",
      "\u001b[1m> Finished chain.\u001b[0m\n",
      "Thank you for your question. jbhasgihasd is a new action movie produced by Hikmat Samadov. It is a fictional story that follows the journey of a group of special forces soldiers on a mission to stop a terrorist organization from carrying out a deadly attack. The movie is action-packed and features a talented cast of actors. Is there anything else you would like to know about the movie or its production? I'm here to help with any questions or concerns you may have.\n"
     ]
    }
   ],
   "source": [
    "prompt_input = \"What is jbhasgihasd?\"\n",
    "\n",
    "result = bot.engine.predict(input=prompt_input)\n",
    "log(result)\n",
    "\n",
    "bot.save_message(author=\"human\", content=prompt_input)\n",
    "bot.save_message(author=\"ai\", content=result)"
   ]
  }
 ],
 "metadata": {
  "kernelspec": {
   "display_name": "Python 3",
   "language": "python",
   "name": "python3"
  },
  "language_info": {
   "codemirror_mode": {
    "name": "ipython",
    "version": 3
   },
   "file_extension": ".py",
   "mimetype": "text/x-python",
   "name": "python",
   "nbconvert_exporter": "python",
   "pygments_lexer": "ipython3",
   "version": "3.10.6"
  }
 },
 "nbformat": 4,
 "nbformat_minor": 0
}
